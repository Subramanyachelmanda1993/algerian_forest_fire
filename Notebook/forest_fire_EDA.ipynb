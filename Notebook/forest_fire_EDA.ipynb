{
 "cells": [
  {
   "cell_type": "code",
   "execution_count": null,
   "metadata": {},
   "outputs": [],
   "source": []
  }
 ],
 "metadata": {
  "kernelspec": {
   "display_name": "Python 3.10.0 (conda)",
   "language": "python",
   "name": "python3"
  },
  "language_info": {
   "name": "python",
   "version": "3.10.0"
  },
  "orig_nbformat": 4,
  "vscode": {
   "interpreter": {
    "hash": "0597fe29fd4f31b35f3d04cf251b39a5de7898d169db3b2e21b149e77a7b9952"
   }
  }
 },
 "nbformat": 4,
 "nbformat_minor": 2
}
